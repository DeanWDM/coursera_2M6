{
 "cells": [
  {
   "cell_type": "markdown",
   "id": "06571588-6948-46ed-8c50-00b6a46bcbb4",
   "metadata": {},
   "source": [
    "# Data Science Tools and Ecosystem"
   ]
  },
  {
   "cell_type": "markdown",
   "id": "5bafbe1e-7554-43f3-a075-9c5dd65f124a",
   "metadata": {},
   "source": [
    "In this notebook, Data Science Tools and Ecosystem are summarized."
   ]
  },
  {
   "cell_type": "raw",
   "id": "80d8ef15-9ae4-4fc9-aa4b-0e045e551d8a",
   "metadata": {},
   "source": [
    "Some of the popular languages that Data Scientists use are:\n",
    "1. python\n",
    "2. R\n",
    "3. SQL"
   ]
  },
  {
   "cell_type": "raw",
   "id": "20db6421-3f0a-4a3c-95d0-7c6f55f26d90",
   "metadata": {},
   "source": [
    "Some of the commonly used libraries used by Data Scientists include:\n",
    "1. Pandas\n",
    "2. NumPy\n",
    "3. Matplotlib\n"
   ]
  },
  {
   "cell_type": "raw",
   "id": "b192d09b-06c1-4e8e-8c9e-881dec0e25a0",
   "metadata": {},
   "source": [
    "| Data Science Tools |\n",
    "| ------------------ |\n",
    "| Jupyter Notebook |\n",
    "| Jupyter Lab |\n",
    "| RStudio |"
   ]
  },
  {
   "cell_type": "markdown",
   "id": "688a7121-7942-4c82-807e-640cff3a68d7",
   "metadata": {},
   "source": [
    "### Below are a few examples of evaluating arithmetic expressions in Python"
   ]
  },
  {
   "cell_type": "code",
   "execution_count": 1,
   "id": "a06f4681-396d-4f10-b33d-df1ed3db16e8",
   "metadata": {
    "tags": []
   },
   "outputs": [
    {
     "data": {
      "text/plain": [
       "17"
      ]
     },
     "execution_count": 1,
     "metadata": {},
     "output_type": "execute_result"
    }
   ],
   "source": [
    "# This a simple arithmetic expression to mutiply then add integers\n",
    "(3*4)+5"
   ]
  },
  {
   "cell_type": "code",
   "execution_count": 3,
   "id": "a5e88c47-77a5-4782-b53f-2c94e5eb940e",
   "metadata": {
    "tags": []
   },
   "outputs": [
    {
     "name": "stdout",
     "output_type": "stream",
     "text": [
      "3.3333333333333335\n"
     ]
    }
   ],
   "source": [
    "# This will convert 200 minutes to hours by diving by 60\n",
    "hoursOf200Minutes = 200/60\n",
    "print(hoursOf200Minutes)"
   ]
  },
  {
   "cell_type": "markdown",
   "id": "e0620f86-be95-407c-a699-c689d77b484d",
   "metadata": {},
   "source": [
    "**Objectives:**\n",
    "- List popular languages for Data Science\n",
    "- List commonly used libraries used by Data Scientists\n",
    "- List three development environment open source tools used in data science"
   ]
  },
  {
   "cell_type": "markdown",
   "id": "9d98531f-d093-4562-9996-868321a444f7",
   "metadata": {},
   "source": [
    "## Author \n",
    "Dimin Wang"
   ]
  },
  {
   "cell_type": "code",
   "execution_count": null,
   "id": "6f83c9c7-c8eb-404a-830f-d424a8004788",
   "metadata": {},
   "outputs": [],
   "source": []
  }
 ],
 "metadata": {
  "kernelspec": {
   "display_name": "Python",
   "language": "python",
   "name": "conda-env-python-py"
  },
  "language_info": {
   "codemirror_mode": {
    "name": "ipython",
    "version": 3
   },
   "file_extension": ".py",
   "mimetype": "text/x-python",
   "name": "python",
   "nbconvert_exporter": "python",
   "pygments_lexer": "ipython3",
   "version": "3.7.12"
  }
 },
 "nbformat": 4,
 "nbformat_minor": 5
}
